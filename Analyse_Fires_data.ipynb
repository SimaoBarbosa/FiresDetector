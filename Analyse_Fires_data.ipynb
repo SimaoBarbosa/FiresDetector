{
 "cells": [
  {
   "cell_type": "code",
   "execution_count": null,
   "metadata": {},
   "outputs": [],
   "source": [
    "import pandas as pd\n",
    "import os\n",
    "import datetime\n",
    "import zipfile\n",
    "import re\n",
    "from Images_of_given_index import image_true_color\n",
    "from IPython.display import Audio, display\n",
    "from timeit import default_timer as timer\n",
    "start = timer()\n",
    "def alert():\n",
    "  global start\n",
    "  end= timer()\n",
    "  print(\"\\n\\nDuration in minutes : \" +  str((end - start)/60) + \" minutes.\" )\n",
    "  display(Audio(url='https://sound.peal.io/ps/audios/000/000/537/original/woo_vu_luvub_dub_dub.wav', autoplay=True))"
   ]
  },
  {
   "cell_type": "code",
   "execution_count": null,
   "metadata": {},
   "outputs": [],
   "source": [
    "fires = pd.read_csv(\"./data/Fires_data/incendios2015.csv\", sep=';' , encoding=\"utf-8\",na_values=\"nan\")\n",
    "fires.head()"
   ]
  },
  {
   "cell_type": "code",
   "execution_count": null,
   "metadata": {},
   "outputs": [],
   "source": [
    "fires.columns"
   ]
  },
  {
   "cell_type": "code",
   "execution_count": null,
   "metadata": {},
   "outputs": [],
   "source": [
    "incendio = fires['incendio']==1\n",
    "falso_alarme = fires['falso_alarme']==0 \n",
    "falso_alarme_tipo = fires['tipo']!='Falso Alarme'\n",
    "fogacho = fires['fogacho']==0\n",
    "fires = fires[ incendio & falso_alarme & falso_alarme_tipo & fogacho]\n",
    "fires.drop([\n",
    "               'ano', \n",
    "               'codigo_sgif',\n",
    "               'codigo_anpc',\n",
    "               'data_primeira_intervencao',\n",
    "               'hora_primeira_intervencao',\n",
    "               'fonte_alerta',\n",
    "               'nut',\n",
    "               'ine',\n",
    "               'causa', 'reacendimento' , 'agricola',\n",
    "               'queimada','falso_alarme','fogacho','incendio','perimetro','aps', 'regiao_prof', 'ugf' \n",
    "          ],axis=1, inplace=True)\n",
    "fires = fires.sort_values('area_total',  ascending=False)\n",
    "fires.dropna()\n",
    "fires.head()"
   ]
  },
  {
   "cell_type": "code",
   "execution_count": null,
   "metadata": {},
   "outputs": [],
   "source": [
    "def find_images(coords,sensing_date_FROM,sensing_date_TO,filename) :\n",
    "    global USERNAME\n",
    "    global PASSWORD\n",
    "    command = \"dhusget.sh -u \"+USERNAME+\" -p \"+PASSWORD +\" -S \"+sensing_date_FROM+\" -E \"+sensing_date_TO +\" -c \"+coords+ \" -m Sentinel-2\"\n",
    "    command = command + \" -q \" + filename +  \".xml -C \" + filename + \".csv\"\n",
    "    os.system(command)"
   ]
  },
  {
   "cell_type": "code",
   "execution_count": null,
   "metadata": {},
   "outputs": [],
   "source": [
    "def date_to_iso_format (date,before=True):\n",
    "    date = str(date)\n",
    "    if (date==\"nan\") :\n",
    "        return \"nan\"\n",
    "    splited = date.split('/')\n",
    "    dt = datetime.datetime(int(splited[2]), int(splited[1]),  int(splited[0]))\n",
    "    if before : \n",
    "       dt = dt - datetime.timedelta(days=1)\n",
    "    else :\n",
    "       dt = dt + datetime.timedelta(days=1)\n",
    "    \n",
    "    iso = str(dt.year) + \"-\" + str(dt.month) + \"-\" + str(dt.day) + \"T06:00:00.000Z\"\n",
    "    return iso\n",
    "date_to_iso_format(\"07/08/2015\")"
   ]
  },
  {
   "cell_type": "code",
   "execution_count": null,
   "metadata": {},
   "outputs": [],
   "source": [
    "def dms2dd(degrees, minutes, seconds, direction):\n",
    "    dd = float(degrees) + float(minutes)/60 + float(seconds)/(60*60);\n",
    "    if direction == 'E' or direction == 'N':\n",
    "        dd *= -1\n",
    "    return dd;\n",
    "print(dms2dd(8,17,1.2876,'N'))\n",
    "dms2dd(39,56,36.3696,'W')"
   ]
  },
  {
   "cell_type": "code",
   "execution_count": null,
   "metadata": {},
   "outputs": [],
   "source": [
    "def dms_to_decimal(text,direction):\n",
    "    print(text)\n",
    "    splited = text.split(':')\n",
    "    degrees = splited[0]\n",
    "    minutes = splited[1]\n",
    "    if len(splited) < 3 : \n",
    "        return \"0\"\n",
    "    else :\n",
    "        seconds = splited[2].replace('\\'', \"\")\n",
    "    result = dms2dd(degrees, minutes, seconds, direction)\n",
    "    print( result )\n",
    "    return result\n",
    "print(dms_to_decimal(\"40:33:26.5068000000082''\" , 'W'))\n",
    "dms_to_decimal( \"7:41:29.922000000001'' \", 'N' )"
   ]
  },
  {
   "cell_type": "code",
   "execution_count": null,
   "metadata": {},
   "outputs": [],
   "source": [
    "USERNAME = ''\n",
    "PASSWORD = ''\n",
    "lon1=\"-4\"\n",
    "lat1=\"30\"\n",
    "lon2=\"26\"\n",
    "lat2=\"46\"\n",
    "coords = lon1 + \",\" + lat1 + \":\" + lon2 + \",\" + lat2 \n",
    "sensing_date_FROM = \"2015-01-01T06:00:00.000Z\"\n",
    "sensing_date_TO = \"2016-01-01T06:00:00.000Z\"\n",
    "filename = \"./images_with_fires_results/test\"\n",
    "#find_images(coords,sensing_date_FROM,sensing_date_TO,filename)"
   ]
  },
  {
   "cell_type": "markdown",
   "metadata": {},
   "source": [
    "# Find Images"
   ]
  },
  {
   "cell_type": "code",
   "execution_count": null,
   "metadata": {},
   "outputs": [],
   "source": [
    "head = fires.head(200)\n",
    "for index, row in head.iterrows():\n",
    "    lat =dms_to_decimal(row[\"lat\"],\"W\")\n",
    "    lon =dms_to_decimal(row[\"lon\"],\"N\")\n",
    "    lon1=str( float(lon)-0.1 )\n",
    "    lat1=str( float(lat)-0.1 )\n",
    "    lon2=str( float(lon)+0.1 )\n",
    "    lat2= str( float(lat)+0.1 )\n",
    "    coords = lon1 + \",\" + lat1 + \":\" + lon2 + \",\" + lat2 \n",
    "    sensing_date_FROM = date_to_iso_format(row[\"data_alerta\"])\n",
    "    sensing_date_TO = date_to_iso_format(row[\"data_extincao\"],False)\n",
    "    filename = \"./images_with_fires_results/index\"+str(index)\n",
    "    print(coords,sensing_date_FROM,sensing_date_TO,filename)\n",
    "    print(\"\\n\")\n",
    "    find_images(coords,sensing_date_FROM,sensing_date_TO,filename)\n",
    "    "
   ]
  },
  {
   "cell_type": "markdown",
   "metadata": {},
   "source": [
    "# Download images"
   ]
  },
  {
   "cell_type": "code",
   "execution_count": null,
   "metadata": {},
   "outputs": [],
   "source": [
    "import glob\n",
    "files = glob.glob(\"./images_with_fires_results/*.csv\")\n",
    "\n",
    "for file in files : \n",
    "    global USERNAME, PASSWORD\n",
    "    if (os.path.getsize(file) >0 ) :\n",
    "        downloads = pd.read_csv(file, sep=',' , encoding=\"utf-8\",na_values=\"nan\",header=None)\n",
    "        splited = file.split('\\\\')\n",
    "        id_fire = splited[len(splited)-1][:-4]\n",
    "        for index, row in downloads.iterrows():\n",
    "            outputpath = \"../../Satellite_img/\" + id_fire\n",
    "            if (not os.path.isdir(outputpath)):\n",
    "                os.mkdir(outputpath)\n",
    "            outputpath = outputpath + '/' + row[0] + '.zip'\n",
    "            command = \"wget --continue --user=\"+USERNAME+\" --password=\"+PASSWORD+\" \\\"\"+ row[1] + \"/$value\" +\"\\\" -O \" + outputpath\n",
    "            print(outputpath,\"\\n\\n\")\n",
    "            os.system(command)"
   ]
  },
  {
   "cell_type": "markdown",
   "metadata": {},
   "source": [
    "# Unnzipping and setting up downloaded images"
   ]
  },
  {
   "cell_type": "code",
   "execution_count": null,
   "metadata": {},
   "outputs": [],
   "source": [
    "indexs = os.listdir(\"../../Satellite_img/\") \n",
    "print ( indexs)  # indexes of fires of images founded\n",
    "for index in indexs :\n",
    "    index_id = index[5:]\n",
    "    path = \"../../Satellite_img/index\"+ index_id\n",
    "    images_ids = os.listdir(path) # images founded for index choosen\n",
    "    for file in images_ids : \n",
    "        print(file)\n",
    "        path_with_img_id = path + \"/\" + file\n",
    "        with zipfile.ZipFile(path_with_img_id,\"r\") as zip_ref:\n",
    "            path_output = path + \"/\" + file [ 37 :  ]\n",
    "            cut = len(path_output)-4\n",
    "            path_output = path_output [ : cut ]\n",
    "            print(path_output)\n",
    "            names = zip_ref.namelist()\n",
    "            regexp = re.compile(r'.*SAFE/GRANULE/.*/IMG_DATA/.*B0[2348]')\n",
    "            img_data = []\n",
    "            for f in names :\n",
    "                if  regexp.search(f) :\n",
    "                    img_data.append(f)\n",
    "            print(len(img_data))\n",
    "            zip_ref.extractall(  members =  img_data , path = path_output )\n",
    "        os.remove(path_with_img_id)"
   ]
  },
  {
   "cell_type": "markdown",
   "metadata": {},
   "source": [
    "# Visualizing images"
   ]
  },
  {
   "cell_type": "code",
   "execution_count": null,
   "metadata": {},
   "outputs": [],
   "source": [
    "indexs = os.listdir(\"../../Satellite_img/\") \n",
    "n_total = 0\n",
    "for index in indexs :\n",
    "    index_id = index[5:]\n",
    "    path = \"../../Satellite_img/index\"+ index_id\n",
    "    images_ids = os.listdir(path) \n",
    "    for image_id in images_ids : \n",
    "        n_total = n_total + 1\n",
    "print(\"Number of Images = \",n_total )"
   ]
  },
  {
   "cell_type": "code",
   "execution_count": null,
   "metadata": {},
   "outputs": [],
   "source": [
    "indexs = os.listdir(\"../../Satellite_img/\")\n",
    "n=0\n",
    "for index in indexs :\n",
    "    index_id = index[5:]\n",
    "    path = \"../../Satellite_img/index\"+ index_id\n",
    "    images_ids = os.listdir(path) # images founded for index choosen\n",
    "    for image_id in images_ids :\n",
    "        n= n + 1 \n",
    "        print(\"\\n\\n->>>>>>>>>>>>>>>>>>\", index_id,\"  \" ,image_id, \"      Image\", n ,\" of \" , n_total ,\"  \\n\\n \" )\n",
    "        #if index_id == '12463' and image_id == \"_T29SMD_20150728T113618\" :\n",
    "        image_true_color(index_id,image_id ,\"../../Satellite_img/\")\n",
    "        alert()"
   ]
  }
 ],
 "metadata": {
  "kernelspec": {
   "display_name": "geo_py37_kernel",
   "language": "python",
   "name": "geo_py37_kernel"
  },
  "language_info": {
   "codemirror_mode": {
    "name": "ipython",
    "version": 3
   },
   "file_extension": ".py",
   "mimetype": "text/x-python",
   "name": "python",
   "nbconvert_exporter": "python",
   "pygments_lexer": "ipython3",
   "version": "3.7.3"
  }
 },
 "nbformat": 4,
 "nbformat_minor": 2
}
